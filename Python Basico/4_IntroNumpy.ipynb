{
  "nbformat": 4,
  "nbformat_minor": 0,
  "metadata": {
    "colab": {
      "provenance": [],
      "include_colab_link": true
    },
    "kernelspec": {
      "name": "python3",
      "display_name": "Python 3"
    },
    "language_info": {
      "name": "python"
    }
  },
  "cells": [
    {
      "cell_type": "markdown",
      "metadata": {
        "id": "view-in-github",
        "colab_type": "text"
      },
      "source": [
        "<a href=\"https://colab.research.google.com/github/SebastianPerezCalle/SENALES-Y-SISTEMAS-2025-1/blob/main/Python%20Basico/4_IntroNumpy.ipynb\" target=\"_parent\"><img src=\"https://colab.research.google.com/assets/colab-badge.svg\" alt=\"Open In Colab\"/></a>"
      ]
    },
    {
      "cell_type": "code",
      "execution_count": 1,
      "metadata": {
        "id": "A0j_1LRgiiFv",
        "colab": {
          "base_uri": "https://localhost:8080/"
        },
        "outputId": "46338f95-3f0a-4449-a742-3f3d3c60d63d"
      },
      "outputs": [
        {
          "output_type": "stream",
          "name": "stdout",
          "text": [
            "<class 'int'> <class 'float'>\n"
          ]
        }
      ],
      "source": [
        "import numpy as np # importar libreria numpy\n",
        "x = 30 #tipo int\n",
        "y = 36.5 #tipo float\n",
        "\n",
        "print(type(x),type(y)) #imprimir en pantalla"
      ]
    },
    {
      "cell_type": "code",
      "source": [
        "xv = np.array([0,-2.5,10]) #crear array tipo vector\n",
        "xv"
      ],
      "metadata": {
        "id": "rAW4Q3SmjVf-",
        "colab": {
          "base_uri": "https://localhost:8080/"
        },
        "outputId": "72f5211a-31af-44e1-9810-a96cbfa805e6"
      },
      "execution_count": 2,
      "outputs": [
        {
          "output_type": "execute_result",
          "data": {
            "text/plain": [
              "array([ 0. , -2.5, 10. ])"
            ]
          },
          "metadata": {},
          "execution_count": 2
        }
      ]
    },
    {
      "cell_type": "markdown",
      "source": [
        "#Listas vs numpy array\n",
        "\n",
        "Las listas pueden contener, números, strings, y en general objetos.\n",
        "Los array de numpy están pensados para procesar números (matrices, tensores)"
      ],
      "metadata": {
        "id": "2ANJCb8djWif"
      }
    },
    {
      "cell_type": "code",
      "source": [
        "xl = [0,-2,0.5]\n",
        "xl"
      ],
      "metadata": {
        "id": "cOVdYL_gl5OJ",
        "colab": {
          "base_uri": "https://localhost:8080/"
        },
        "outputId": "66dad7df-09fd-4b23-cb93-57ddba7090de"
      },
      "execution_count": 3,
      "outputs": [
        {
          "output_type": "execute_result",
          "data": {
            "text/plain": [
              "[0, -2, 0.5]"
            ]
          },
          "metadata": {},
          "execution_count": 3
        }
      ]
    },
    {
      "cell_type": "code",
      "source": [
        "xl = ['Brian Patiño',0.5, 2] #lista de tres elementos con un string, un flotante y un entero\n",
        "xl"
      ],
      "metadata": {
        "id": "2u_7YmkjmC4b",
        "colab": {
          "base_uri": "https://localhost:8080/"
        },
        "outputId": "e1f73044-ccc4-4a0a-e426-59adcfd3bd7b"
      },
      "execution_count": 4,
      "outputs": [
        {
          "output_type": "execute_result",
          "data": {
            "text/plain": [
              "['Brian Patiño', 0.5, 2]"
            ]
          },
          "metadata": {},
          "execution_count": 4
        }
      ]
    },
    {
      "cell_type": "markdown",
      "source": [
        "#Tamaños, indexación y graficar numpy array"
      ],
      "metadata": {
        "id": "4rsC2rxtmLTh"
      }
    },
    {
      "cell_type": "code",
      "source": [
        "xv.shape # vector con 3 elementos - > shape retorna la forma (tamaño del arreglo)"
      ],
      "metadata": {
        "id": "hgudyquemKl5",
        "colab": {
          "base_uri": "https://localhost:8080/"
        },
        "outputId": "809c4191-f9f6-43ff-9856-aeee8570cffa"
      },
      "execution_count": 5,
      "outputs": [
        {
          "output_type": "execute_result",
          "data": {
            "text/plain": [
              "(3,)"
            ]
          },
          "metadata": {},
          "execution_count": 5
        }
      ]
    },
    {
      "cell_type": "code",
      "source": [
        "xm = np.array([[0,-2.5,10,4],[6,47,70,2],[8,10.2,-698,-0.9]]) #cada lista de números es tratada como una fila de la matriz\n",
        "xm"
      ],
      "metadata": {
        "id": "pxaGM0EQmSZu",
        "colab": {
          "base_uri": "https://localhost:8080/"
        },
        "outputId": "1431738b-bf0e-4873-bfb8-ae70529e435d"
      },
      "execution_count": 6,
      "outputs": [
        {
          "output_type": "execute_result",
          "data": {
            "text/plain": [
              "array([[   0. ,   -2.5,   10. ,    4. ],\n",
              "       [   6. ,   47. ,   70. ,    2. ],\n",
              "       [   8. ,   10.2, -698. ,   -0.9]])"
            ]
          },
          "metadata": {},
          "execution_count": 6
        }
      ]
    },
    {
      "cell_type": "code",
      "source": [
        "xm.shape"
      ],
      "metadata": {
        "id": "WShNgcwpmVQn",
        "colab": {
          "base_uri": "https://localhost:8080/"
        },
        "outputId": "fc8094cb-f2cf-4f5b-d994-c06497982004"
      },
      "execution_count": 7,
      "outputs": [
        {
          "output_type": "execute_result",
          "data": {
            "text/plain": [
              "(3, 4)"
            ]
          },
          "metadata": {},
          "execution_count": 7
        }
      ]
    },
    {
      "cell_type": "markdown",
      "source": [
        "# En python se indexa desde 0"
      ],
      "metadata": {
        "id": "XfbAsn4HmiYz"
      }
    },
    {
      "cell_type": "code",
      "source": [
        "xv = np.array([-6,5,4.2,3,8,50,16])\n",
        "print(xv,xv.shape,xv[0])"
      ],
      "metadata": {
        "id": "JPCFkhpvmnMy",
        "colab": {
          "base_uri": "https://localhost:8080/"
        },
        "outputId": "69df79bb-3988-4fc5-dd51-29d1803bec9c"
      },
      "execution_count": 8,
      "outputs": [
        {
          "output_type": "stream",
          "name": "stdout",
          "text": [
            "[-6.   5.   4.2  3.   8.  50.  16. ] (7,) -6.0\n"
          ]
        }
      ]
    },
    {
      "cell_type": "markdown",
      "source": [
        "# En Python, cuando se indexa por rangos de valores, no se incluye el último elemento"
      ],
      "metadata": {
        "id": "_-muWXM9mtjf"
      }
    },
    {
      "cell_type": "code",
      "source": [
        "xv[1:5] # x[t_0] # no se incluye el elemento 5 que equivale a x[5] = 50"
      ],
      "metadata": {
        "id": "Uv0esZSnmr4Z",
        "colab": {
          "base_uri": "https://localhost:8080/"
        },
        "outputId": "f4755cd7-82b2-4c27-e9ee-c54002048d26"
      },
      "execution_count": 9,
      "outputs": [
        {
          "output_type": "execute_result",
          "data": {
            "text/plain": [
              "array([5. , 4.2, 3. , 8. ])"
            ]
          },
          "metadata": {},
          "execution_count": 9
        }
      ]
    },
    {
      "cell_type": "markdown",
      "source": [
        "Cuando se piden todos los elementos hasta el final con el operador : si se incluye el último elemento"
      ],
      "metadata": {
        "id": "5YzGa1qpm-JZ"
      }
    },
    {
      "cell_type": "code",
      "source": [
        "# desde el segundo elemento hasta el ultimo\n",
        "print(xv)\n",
        "print(xv[1:])"
      ],
      "metadata": {
        "id": "Crz6m4BCnBC-",
        "colab": {
          "base_uri": "https://localhost:8080/"
        },
        "outputId": "db8a8648-19e6-4720-ca81-b9193362a798"
      },
      "execution_count": 10,
      "outputs": [
        {
          "output_type": "stream",
          "name": "stdout",
          "text": [
            "[-6.   5.   4.2  3.   8.  50.  16. ]\n",
            "[ 5.   4.2  3.   8.  50.  16. ]\n"
          ]
        }
      ]
    },
    {
      "cell_type": "code",
      "source": [
        "#desde antes del tercer elmento hasta el principio\n",
        "print(xv)\n",
        "print(xv[:3])"
      ],
      "metadata": {
        "id": "zHtT__fdnDMm",
        "colab": {
          "base_uri": "https://localhost:8080/"
        },
        "outputId": "6d2fcff0-9919-4ca3-bba9-a57aaa2aa72f"
      },
      "execution_count": 11,
      "outputs": [
        {
          "output_type": "stream",
          "name": "stdout",
          "text": [
            "[-6.   5.   4.2  3.   8.  50.  16. ]\n",
            "[-6.   5.   4.2]\n"
          ]
        }
      ]
    },
    {
      "cell_type": "markdown",
      "source": [
        "# Para matrices se extiende la misma sintaxis para indexar vectores, pero separando la indexación por filas y por columnas"
      ],
      "metadata": {
        "id": "RyocOAxxnG6d"
      }
    },
    {
      "cell_type": "code",
      "source": [
        "print(xm)"
      ],
      "metadata": {
        "id": "mkt89S_KnGpa",
        "colab": {
          "base_uri": "https://localhost:8080/"
        },
        "outputId": "e17993fe-9135-4843-d3ce-579577186219"
      },
      "execution_count": 12,
      "outputs": [
        {
          "output_type": "stream",
          "name": "stdout",
          "text": [
            "[[   0.    -2.5   10.     4. ]\n",
            " [   6.    47.    70.     2. ]\n",
            " [   8.    10.2 -698.    -0.9]]\n"
          ]
        }
      ]
    },
    {
      "cell_type": "code",
      "source": [
        "xm[0:2,:2]"
      ],
      "metadata": {
        "id": "5S6CVqkfnTeu",
        "colab": {
          "base_uri": "https://localhost:8080/"
        },
        "outputId": "f0a4847b-aeba-429d-d044-6dc9b952141d"
      },
      "execution_count": 13,
      "outputs": [
        {
          "output_type": "execute_result",
          "data": {
            "text/plain": [
              "array([[ 0. , -2.5],\n",
              "       [ 6. , 47. ]])"
            ]
          },
          "metadata": {},
          "execution_count": 13
        }
      ]
    },
    {
      "cell_type": "code",
      "source": [
        "xm[0:2,0]"
      ],
      "metadata": {
        "id": "g06VeUeenV2j",
        "colab": {
          "base_uri": "https://localhost:8080/"
        },
        "outputId": "ab770a2e-a44a-421c-b89d-deee55594aa1"
      },
      "execution_count": 14,
      "outputs": [
        {
          "output_type": "execute_result",
          "data": {
            "text/plain": [
              "array([0., 6.])"
            ]
          },
          "metadata": {},
          "execution_count": 14
        }
      ]
    },
    {
      "cell_type": "code",
      "source": [
        "xm[0,1:]"
      ],
      "metadata": {
        "id": "X3e1USJunbmT",
        "colab": {
          "base_uri": "https://localhost:8080/"
        },
        "outputId": "5c0a64b4-af14-47c3-9493-cdd4ce217a3b"
      },
      "execution_count": 15,
      "outputs": [
        {
          "output_type": "execute_result",
          "data": {
            "text/plain": [
              "array([-2.5, 10. ,  4. ])"
            ]
          },
          "metadata": {},
          "execution_count": 15
        }
      ]
    },
    {
      "cell_type": "code",
      "source": [
        "np.diag(xm)#diagonal del arreglo (matriz)"
      ],
      "metadata": {
        "id": "HcF0wWaWnhzE",
        "colab": {
          "base_uri": "https://localhost:8080/"
        },
        "outputId": "ad692740-b83a-44ce-fbcc-c310ab1043cf"
      },
      "execution_count": 16,
      "outputs": [
        {
          "output_type": "execute_result",
          "data": {
            "text/plain": [
              "array([   0.,   47., -698.])"
            ]
          },
          "metadata": {},
          "execution_count": 16
        }
      ]
    },
    {
      "cell_type": "markdown",
      "source": [
        "#Vectores"
      ],
      "metadata": {
        "id": "H9xP5gCAouDA"
      }
    },
    {
      "cell_type": "markdown",
      "source": [
        "Un vector es una secuencia de valores numéricos. En Python, podemos representar un vector utilizando una lista de números. Por ejemplo, el siguiente código crea un vector con los valores 1, 2 y 3:"
      ],
      "metadata": {
        "id": "xBzI1mrwoy9C"
      }
    },
    {
      "cell_type": "code",
      "source": [
        "vector = [1, 2, 3]"
      ],
      "metadata": {
        "id": "wKNF_4jEovei"
      },
      "execution_count": 17,
      "outputs": []
    },
    {
      "cell_type": "markdown",
      "source": [
        "Podemos acceder a cada elemento del vector utilizando su índice. El índice del primer elemento es 0, el índice del segundo elemento es 1, y así sucesivamente. Por ejemplo, para acceder al segundo elemento del vector, podemos utilizar el siguiente código:"
      ],
      "metadata": {
        "id": "5qRdoqF6o5xN"
      }
    },
    {
      "cell_type": "code",
      "source": [
        "segundo_elemento = vector[1]"
      ],
      "metadata": {
        "id": "PJdCm_NZo8Xo"
      },
      "execution_count": 18,
      "outputs": []
    },
    {
      "cell_type": "markdown",
      "source": [
        "También podemos utilizar la función len para obtener la longitud del vector:"
      ],
      "metadata": {
        "id": "jDI4thYXo_Zt"
      }
    },
    {
      "cell_type": "code",
      "source": [
        "longitud = len(vector)"
      ],
      "metadata": {
        "id": "ZypNr3FJo_FS"
      },
      "execution_count": 19,
      "outputs": []
    },
    {
      "cell_type": "markdown",
      "source": [
        "Además, podemos realizar operaciones aritméticas con vectores utilizando bucles for. Por ejemplo, el siguiente código suma dos vectores indexando las listas:"
      ],
      "metadata": {
        "id": "qY_VSrskpIVt"
      }
    },
    {
      "cell_type": "code",
      "source": [
        "vector1 = [1, 2, 3]\n",
        "vector2 = [4, 5, 6]\n",
        "\n",
        "resultado = []\n",
        "for i in range(len(vector1)):\n",
        "    suma = vector1[i] + vector2[i]\n",
        "    resultado.append(suma)"
      ],
      "metadata": {
        "id": "AUph6GDHpHjp"
      },
      "execution_count": 20,
      "outputs": []
    },
    {
      "cell_type": "markdown",
      "source": [
        "#Matrices\n",
        "\n",
        "Una matriz es una tabla de valores numéricos. En Python, podemos representar una matriz utilizando una lista de listas. Cada lista interna representa una fila de la matriz. Por ejemplo, el siguiente código crea una matriz de 2 filas y 3 columnas:"
      ],
      "metadata": {
        "id": "GmhYC3V5pUOE"
      }
    },
    {
      "cell_type": "code",
      "source": [
        "matriz = [[1, 2, 3], [4, 5, 6]]"
      ],
      "metadata": {
        "id": "H3alN06LpWNl"
      },
      "execution_count": 21,
      "outputs": []
    },
    {
      "cell_type": "markdown",
      "source": [
        "Podemos acceder a cada elemento de la matriz utilizando su índice de fila y columna. El índice de la primera fila es 0, el índice de la segunda fila es 1, y así sucesivamente. El índice de la primera columna es 0, el índice de la segunda columna es 1, y así sucesivamente. Por ejemplo, para acceder al elemento en la primera fila y la segunda columna de la matriz, podemos utilizar el siguiente código:"
      ],
      "metadata": {
        "id": "D-zcpq-npa68"
      }
    },
    {
      "cell_type": "code",
      "source": [
        "elemento = matriz[0][1]"
      ],
      "metadata": {
        "id": "aqcRdvhTpgxZ"
      },
      "execution_count": 22,
      "outputs": []
    },
    {
      "cell_type": "markdown",
      "source": [
        "También podemos utilizar la función len para obtener el número de filas y columnas de la matriz:"
      ],
      "metadata": {
        "id": "vEOW9rDDpjhN"
      }
    },
    {
      "cell_type": "code",
      "source": [
        "num_filas = len(matriz)\n",
        "num_columnas = len(matriz[0])"
      ],
      "metadata": {
        "id": "9UHVMPYPplBJ"
      },
      "execution_count": 23,
      "outputs": []
    },
    {
      "cell_type": "markdown",
      "source": [
        "Podemos realizar operaciones aritméticas con matrices utilizando bucles for. Por ejemplo, el siguiente código suma dos matrices:"
      ],
      "metadata": {
        "id": "mG9IatIPprn4"
      }
    },
    {
      "cell_type": "code",
      "source": [
        "# Definimos las matrices a sumar\n",
        "matriz1 = [[1, 2, 3], [4, 5, 6], [7, 8, 9]]\n",
        "matriz2 = [[9, 8, 7], [6, 5, 4], [3, 2, 1]]\n",
        "\n",
        "# Creamos una matriz vacía del mismo tamaño que las matrices originales\n",
        "suma = []\n",
        "for i in range(len(matriz1)):\n",
        "    fila = []\n",
        "    for j in range(len(matriz1[0])):\n",
        "        fila.append(0)\n",
        "    suma.append(fila)\n",
        "\n",
        "# Realizamos la suma de cada elemento correspondiente en ambas matrices\n",
        "for i in range(len(matriz1)):\n",
        "    for j in range(len(matriz1[0])):\n",
        "        suma[i][j] = matriz1[i][j] + matriz2[i][j]\n",
        "\n",
        "# Imprimimos la matriz resultante\n",
        "print(suma)\n"
      ],
      "metadata": {
        "colab": {
          "base_uri": "https://localhost:8080/"
        },
        "id": "bQ9gAQryprXS",
        "outputId": "6b339c98-f491-46c9-b1c0-6370dd8ef975"
      },
      "execution_count": 24,
      "outputs": [
        {
          "output_type": "stream",
          "name": "stdout",
          "text": [
            "[[10, 10, 10], [10, 10, 10], [10, 10, 10]]\n"
          ]
        }
      ]
    },
    {
      "cell_type": "markdown",
      "source": [
        "**Nota**: Si bien, las listas pueden utilizarse para crear vectores y matrices, para operaciones matemáticas se recomienda trabajar con la librería numpy y arrays, dado que se optimiza el uso de cómputo y se cuenta con métodos depurados para operaciones matemáticas y algebráicas."
      ],
      "metadata": {
        "id": "y7oDRC4V-xGV"
      }
    },
    {
      "cell_type": "markdown",
      "source": [
        "Developed by:\n",
        "\n",
        "- Brian Patino Agudelo - bpatinoa@unal.edu.co\n",
        "\n",
        "- Andrés Marino Álvarez Meza - amalvarezme@unal.edu.co\n",
        "\n",
        "- César Germán Castellanos Domínguez - cgcastellanosd@unal.edu.co"
      ],
      "metadata": {
        "id": "2kgFEuPs_HPB"
      }
    }
  ]
}