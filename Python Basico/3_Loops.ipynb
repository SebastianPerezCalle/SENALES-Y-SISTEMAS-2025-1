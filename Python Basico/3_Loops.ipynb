{
  "cells": [
    {
      "cell_type": "markdown",
      "metadata": {
        "id": "view-in-github",
        "colab_type": "text"
      },
      "source": [
        "<a href=\"https://colab.research.google.com/github/SebastianPerezCalle/SENALES-Y-SISTEMAS-2025-1/blob/main/Python%20Basico/3_Loops.ipynb\" target=\"_parent\"><img src=\"https://colab.research.google.com/assets/colab-badge.svg\" alt=\"Open In Colab\"/></a>"
      ]
    },
    {
      "cell_type": "markdown",
      "metadata": {
        "id": "uRd8KNK1kQsX"
      },
      "source": [
        "# Loops"
      ]
    },
    {
      "cell_type": "markdown",
      "metadata": {
        "id": "Lq8CRypykvSx"
      },
      "source": [
        "In Python, we have two structures for loops: the for loop and the while loop (there is no do-while loop)."
      ]
    },
    {
      "cell_type": "markdown",
      "metadata": {
        "id": "3Z9f8FGZmx-c"
      },
      "source": [
        "\n",
        "It is important to have a clear understanding of the concepts of a counter and an accumulator, as they are essential when working with any type of loop.\n",
        "\n",
        "A counter is a variable that keeps track of the number of times a particular event or condition occurs. It is commonly used in loops to control the iteration process. The counter is usually initialized before the loop starts and is incremented or decremented with each iteration.\n",
        "\n",
        "An accumulator, on the other hand, is a variable that accumulates or collects values over multiple iterations of a loop. It is often used to calculate a sum, a product, or any other aggregate value based on the values obtained during each iteration of the loop. The accumulator is typically initialized before the loop and updated within the loop body.\n",
        "\n",
        "Both counters and accumulators play crucial roles in controlling and managing the flow of a loop, allowing you to perform specific actions based on the current state or progress of the loop iteration."
      ]
    },
    {
      "cell_type": "markdown",
      "metadata": {
        "id": "Mrm12NZVqkuI"
      },
      "source": [
        "# While"
      ]
    },
    {
      "cell_type": "markdown",
      "metadata": {
        "id": "WJfkhkJqqoeg"
      },
      "source": [
        "\n",
        "They are also called indeterminate loops, and they are used when we know the condition that must be met to end the loop, but we do not know how many times or how long it will take."
      ]
    },
    {
      "cell_type": "code",
      "execution_count": 1,
      "metadata": {
        "colab": {
          "base_uri": "https://localhost:8080/"
        },
        "id": "DA7VKxA1r7Nr",
        "outputId": "16346f81-5686-4a5e-c0b3-db73fa420554"
      },
      "outputs": [
        {
          "output_type": "stream",
          "name": "stdout",
          "text": [
            "Instructions inside the loop\n",
            "Instructions outside the loop\n"
          ]
        }
      ],
      "source": [
        "condition = 1\n",
        "while condition:\n",
        "  print('Instructions inside the loop')\n",
        "  condition = 0\n",
        "print('Instructions outside the loop')"
      ]
    },
    {
      "cell_type": "markdown",
      "metadata": {
        "id": "yaBIfZnxsDkm"
      },
      "source": [
        "The structure of the loop is very simple, as the only thing that needs to be specified is the condition that must be met to continue in the loop. Essentially, it functions similarly to a conditional if() statement, except that the code inside the loop will be executed as many times as necessary as long as the condition is true."
      ]
    },
    {
      "cell_type": "markdown",
      "metadata": {
        "id": "WPIk5_K98Zm_"
      },
      "source": [
        "Since the loop can be understood as a conditional statement, it works in the same way for boolean values, as well as for the values 1 and 0 explained in other materials."
      ]
    },
    {
      "cell_type": "code",
      "execution_count": 2,
      "metadata": {
        "colab": {
          "base_uri": "https://localhost:8080/"
        },
        "id": "hyjsllWj8mxh",
        "outputId": "4aff57b8-a400-40bc-8a78-faad30006ed7"
      },
      "outputs": [
        {
          "name": "stdout",
          "output_type": "stream",
          "text": [
            "Choose an option:\n",
            "1. ---\n",
            "2. ---\n",
            "0. Exit\n",
            "\n",
            "\n",
            "1\n",
            "Choose an option:\n",
            "1. ---\n",
            "2. ---\n",
            "0. Exit\n",
            "\n",
            "\n",
            "0\n"
          ]
        }
      ],
      "source": [
        "\n",
        "a = 1\n",
        "while a:\n",
        "  print(\"Choose an option:\\n1. ---\\n2. ---\\n0. Exit\\n\\n\")\n",
        "  a = int(input())\n"
      ]
    },
    {
      "cell_type": "markdown",
      "metadata": {
        "id": "7aMLABfg-56z"
      },
      "source": [
        "\n",
        "In the previous example, we relied on the value of 'a' itself as the condition for the loop.\n",
        "\n",
        "However, assigning a value beforehand can sometimes cause issues.\n",
        "\n",
        "Another way to do it is by directly performing a comparison as the loop condition."
      ]
    },
    {
      "cell_type": "code",
      "execution_count": 3,
      "metadata": {
        "id": "XbbgoZmy-peb",
        "colab": {
          "base_uri": "https://localhost:8080/"
        },
        "outputId": "323ead43-7065-4329-8a32-f4daa3e38f61"
      },
      "outputs": [
        {
          "output_type": "stream",
          "name": "stdout",
          "text": [
            "Enter an integer number. 0 to finish: 0\n",
            "End of the program.\n"
          ]
        }
      ],
      "source": [
        "number = int(input('Enter an integer number. 0 to finish: '))\n",
        "\n",
        "while number != 0:\n",
        "    number = int(input('Enter an integer number. 0 to finish: '))\n",
        "\n",
        "print('End of the program.')"
      ]
    },
    {
      "cell_type": "markdown",
      "metadata": {
        "id": "Zo4CJm8Y1F6v"
      },
      "source": [
        "Then, it is possible to use infinite loops like while(True) or while(1) if something is required to run all the time.\n",
        "\n",
        "Though it is not ideal to use it with the while() loop, it exists the statement break, which allows to get out of the loop in the previous scenaries, in case that it is critical not to run the remaining lines before ending the loop."
      ]
    },
    {
      "cell_type": "markdown",
      "metadata": {
        "id": "pzRE4NGG3BzJ"
      },
      "source": [
        "A common error using while() loops consists of not updating the control variable, thus creating a non intentional infinite loop (a bug in the code)."
      ]
    },
    {
      "cell_type": "code",
      "execution_count": 4,
      "metadata": {
        "id": "_Nue_w3kD8hM",
        "colab": {
          "base_uri": "https://localhost:8080/"
        },
        "outputId": "869f42ad-29ce-4ce2-e1eb-36f69bf7b895"
      },
      "outputs": [
        {
          "output_type": "stream",
          "name": "stdout",
          "text": [
            "¡Hello world!\n",
            "¡Hello world!\n",
            "¡Hello world!\n",
            "¡Hello world!\n",
            "¡Hello world!\n",
            "¡Hello world!\n",
            "¡Hello world!\n",
            "¡Hello world!\n",
            "¡Hello world!\n",
            "¡Hello world!\n",
            "¡Hello world!\n",
            "¡Hello world!\n",
            "¡Hello world!\n",
            "¡Hello world!\n",
            "¡Hello world!\n"
          ]
        }
      ],
      "source": [
        "i = 0\n",
        "\n",
        "# Run this loop as long as i is less than 15\n",
        "while i < 15:\n",
        "    # Show a message\n",
        "    print(\"¡Hello world!\")\n",
        "    i+=1\n",
        "\n"
      ]
    },
    {
      "cell_type": "code",
      "execution_count": 5,
      "metadata": {
        "id": "czWXNiR63RrX",
        "colab": {
          "base_uri": "https://localhost:8080/"
        },
        "outputId": "ca2ce2ac-b829-4ae3-d082-8b1ef7dd352c"
      },
      "outputs": [
        {
          "output_type": "execute_result",
          "data": {
            "text/plain": [
              "0"
            ]
          },
          "metadata": {},
          "execution_count": 5
        }
      ],
      "source": [
        "4%2 #the % operator give you the residual between the numbers!"
      ]
    },
    {
      "cell_type": "markdown",
      "metadata": {
        "id": "44UnVO99qBW8"
      },
      "source": [
        "# For"
      ]
    },
    {
      "cell_type": "markdown",
      "metadata": {
        "id": "ctcL3DMt5sW0"
      },
      "source": [
        "for() loops are used to have complete control of how many iterations will be done.\n",
        "\n",
        "It is necessary to have an \"initial\" value and a \"final\" value.\n",
        "\n",
        "Optionally we can have a determined step size.\n",
        "\n",
        "Opposite to C, for example, where we have all of these arguments in the loop statement, in Python we have to use the [range](https://www.w3schools.com/python/ref_func_range.asp) function."
      ]
    },
    {
      "cell_type": "code",
      "execution_count": 6,
      "metadata": {
        "id": "ClsJH4_skOmN"
      },
      "outputs": [],
      "source": [
        "#for counter_variable in range(initial_value, final_value, step_size):\n",
        "\n",
        "    # code within the loop\n",
        "\n",
        "\n",
        "# code out of the loop"
      ]
    },
    {
      "cell_type": "markdown",
      "metadata": {
        "id": "l0Jan_9Y7mrC"
      },
      "source": [
        "For example, it we want a code to show all the even numbers from 900 to 1000, we have:"
      ]
    },
    {
      "cell_type": "code",
      "execution_count": 7,
      "metadata": {
        "id": "tw2P0KwpI2vX",
        "colab": {
          "base_uri": "https://localhost:8080/"
        },
        "outputId": "90a7ddbd-73b5-44e4-ed08-059a256f0ba3"
      },
      "outputs": [
        {
          "output_type": "stream",
          "name": "stdout",
          "text": [
            "900\n",
            "902\n",
            "904\n",
            "906\n",
            "908\n",
            "910\n",
            "912\n",
            "914\n",
            "916\n",
            "918\n",
            "920\n",
            "922\n",
            "924\n",
            "926\n",
            "928\n",
            "930\n",
            "932\n",
            "934\n",
            "936\n",
            "938\n",
            "940\n",
            "942\n",
            "944\n",
            "946\n",
            "948\n",
            "950\n",
            "952\n",
            "954\n",
            "956\n",
            "958\n",
            "960\n",
            "962\n",
            "964\n",
            "966\n",
            "968\n",
            "970\n",
            "972\n",
            "974\n",
            "976\n",
            "978\n",
            "980\n",
            "982\n",
            "984\n",
            "986\n",
            "988\n",
            "990\n",
            "992\n",
            "994\n",
            "996\n",
            "998\n"
          ]
        }
      ],
      "source": [
        "for i in range(900, 1000, 2):\n",
        "    print(i)"
      ]
    },
    {
      "cell_type": "markdown",
      "metadata": {
        "id": "tj6zSb2M7zLL"
      },
      "source": [
        "We can see how it printed until 998 (as it was shown, we take until one number prior; if we would like to include 1000, it should be at least until 1001).\n"
      ]
    },
    {
      "cell_type": "markdown",
      "metadata": {
        "id": "bINzUaMU8NXL"
      },
      "source": [
        "We can take advantage of the default arguments of the range() function for the following example, where we take the numbers from 0 to 10000 and we count all of them which are multiple of 33."
      ]
    },
    {
      "cell_type": "code",
      "execution_count": 8,
      "metadata": {
        "id": "r7trlV1HAl0x",
        "colab": {
          "base_uri": "https://localhost:8080/"
        },
        "outputId": "feafd5a8-889f-4777-9626-94280d010302"
      },
      "outputs": [
        {
          "output_type": "stream",
          "name": "stdout",
          "text": [
            "304\n"
          ]
        }
      ],
      "source": [
        "counter = 0\n",
        "\n",
        "for i in range(10000):\n",
        "    if (i % 33 == 0): # residual == 0?\n",
        "        counter += 1\n",
        "\n",
        "#show counter\n",
        "print(counter)"
      ]
    },
    {
      "cell_type": "markdown",
      "metadata": {
        "id": "ged0cwjO8xCh"
      },
      "source": [
        "For loops are used for excellence to go over arrays, lists or matrices, as their dimensions are fixed values, and allow to iterate its elements at please."
      ]
    },
    {
      "cell_type": "code",
      "execution_count": 9,
      "metadata": {
        "id": "0o0S2rWrCiQ_",
        "colab": {
          "base_uri": "https://localhost:8080/"
        },
        "outputId": "e1603774-7ac7-4810-d17e-cef8e6d6d095"
      },
      "outputs": [
        {
          "output_type": "stream",
          "name": "stdout",
          "text": [
            "8\n",
            "10\n",
            "23\n",
            "17\n",
            "15\n"
          ]
        }
      ],
      "source": [
        "a = [8, 10, 23, 17, 15] #list of numbers\n",
        "\n",
        "for i in range(len(a)):\n",
        "  print(a[i])"
      ]
    },
    {
      "cell_type": "markdown",
      "metadata": {
        "id": "izZJYSAT9ojn"
      },
      "source": [
        "It's important to note how len(a) returns the number of elements, but in Python, the index goes from zero, that's why all of the elements were printed. Let's see the difference:"
      ]
    },
    {
      "cell_type": "code",
      "execution_count": 10,
      "metadata": {
        "id": "bQtDFIsyDTMz",
        "colab": {
          "base_uri": "https://localhost:8080/"
        },
        "outputId": "dd3ead79-ec9a-4a86-edd7-ee1f74d2d508"
      },
      "outputs": [
        {
          "output_type": "execute_result",
          "data": {
            "text/plain": [
              "5"
            ]
          },
          "metadata": {},
          "execution_count": 10
        }
      ],
      "source": [
        "len(a)"
      ]
    },
    {
      "cell_type": "code",
      "execution_count": 11,
      "metadata": {
        "id": "cHLdaslmDL12",
        "colab": {
          "base_uri": "https://localhost:8080/"
        },
        "outputId": "d076e4c2-9208-42ef-dec2-acb20f787080"
      },
      "outputs": [
        {
          "output_type": "stream",
          "name": "stdout",
          "text": [
            "8\n",
            "10\n",
            "23\n",
            "17\n"
          ]
        }
      ],
      "source": [
        "for i in range(4):\n",
        "  print(a[i])"
      ]
    },
    {
      "cell_type": "code",
      "execution_count": 12,
      "metadata": {
        "id": "h2v8nwl3DQ4j",
        "colab": {
          "base_uri": "https://localhost:8080/"
        },
        "outputId": "492f1bb3-6d30-404f-9417-1529a66ad05b"
      },
      "outputs": [
        {
          "output_type": "stream",
          "name": "stdout",
          "text": [
            "8\n",
            "10\n",
            "23\n",
            "17\n",
            "15\n"
          ]
        }
      ],
      "source": [
        "for i in range(5):\n",
        "  print(a[i])"
      ]
    },
    {
      "cell_type": "markdown",
      "metadata": {
        "id": "50Zi69eu96KX"
      },
      "source": [
        "Then, as we have nested conditionals, we can also have nested loops, where each iteration of the external loops makes one full iteration of the internal loop. Combining it with the things said before, let's see an example with a matrix (list of lists):"
      ]
    },
    {
      "cell_type": "code",
      "execution_count": 13,
      "metadata": {
        "id": "MSXwFy5vDXqR",
        "colab": {
          "base_uri": "https://localhost:8080/"
        },
        "outputId": "d9b5f366-0a62-4390-bae2-ea11262c8370"
      },
      "outputs": [
        {
          "output_type": "execute_result",
          "data": {
            "text/plain": [
              "[[1, 3, 4], [5, 6, 7], [8, 9, 2]]"
            ]
          },
          "metadata": {},
          "execution_count": 13
        }
      ],
      "source": [
        "M = [[1,3,4],[5,6,7],[8,9,2]]\n",
        "M"
      ]
    },
    {
      "cell_type": "code",
      "execution_count": 14,
      "metadata": {
        "id": "A6PWVZ4tDwdR",
        "colab": {
          "base_uri": "https://localhost:8080/"
        },
        "outputId": "5f60bc40-417d-4146-87a9-d4705e34b280"
      },
      "outputs": [
        {
          "output_type": "stream",
          "name": "stdout",
          "text": [
            "Row 0, Column 0: 1\n",
            "Row 0, Column 1: 3\n",
            "Row 0, Column 2: 4\n",
            "Row 1, Column 0: 5\n",
            "Row 1, Column 1: 6\n",
            "Row 1, Column 2: 7\n",
            "Row 2, Column 0: 8\n",
            "Row 2, Column 1: 9\n",
            "Row 2, Column 2: 2\n"
          ]
        }
      ],
      "source": [
        "for i in range(3): # Rows\n",
        "  for j in range(3): # Columns\n",
        "    print(\"Row \" + str(i) + \", Column \" + str(j) + \": \" + str(M[i][j]))"
      ]
    },
    {
      "cell_type": "markdown",
      "metadata": {
        "id": "IzPHUa_v6ISP"
      },
      "source": [
        "# Examples\n",
        "\n",
        "Write a program that prints the numbers from 1 to 100, but for multiples of three, print \"Fizz\" instead of the number, and for multiples of five, print \"Buzz\".\n",
        "\n",
        "For numbers that are multiples of both three and five, print \"FizzBuzz\""
      ]
    },
    {
      "cell_type": "code",
      "execution_count": 15,
      "metadata": {
        "id": "o81STarR6X0W",
        "colab": {
          "base_uri": "https://localhost:8080/"
        },
        "outputId": "03524f5e-8664-43dc-e9d1-c7585b239d5c"
      },
      "outputs": [
        {
          "output_type": "stream",
          "name": "stdout",
          "text": [
            "1\n",
            "2\n",
            "Fizz\n",
            "4\n",
            "Buzz\n",
            "Fizz\n",
            "7\n",
            "8\n",
            "Fizz\n",
            "Buzz\n",
            "11\n",
            "Fizz\n",
            "13\n",
            "14\n",
            "FizzBuzz\n",
            "16\n",
            "17\n",
            "Fizz\n",
            "19\n",
            "Buzz\n",
            "Fizz\n",
            "22\n",
            "23\n",
            "Fizz\n",
            "Buzz\n",
            "26\n",
            "Fizz\n",
            "28\n",
            "29\n",
            "FizzBuzz\n",
            "31\n",
            "32\n",
            "Fizz\n",
            "34\n",
            "Buzz\n",
            "Fizz\n",
            "37\n",
            "38\n",
            "Fizz\n",
            "Buzz\n",
            "41\n",
            "Fizz\n",
            "43\n",
            "44\n",
            "FizzBuzz\n",
            "46\n",
            "47\n",
            "Fizz\n",
            "49\n",
            "Buzz\n",
            "Fizz\n",
            "52\n",
            "53\n",
            "Fizz\n",
            "Buzz\n",
            "56\n",
            "Fizz\n",
            "58\n",
            "59\n",
            "FizzBuzz\n",
            "61\n",
            "62\n",
            "Fizz\n",
            "64\n",
            "Buzz\n",
            "Fizz\n",
            "67\n",
            "68\n",
            "Fizz\n",
            "Buzz\n",
            "71\n",
            "Fizz\n",
            "73\n",
            "74\n",
            "FizzBuzz\n",
            "76\n",
            "77\n",
            "Fizz\n",
            "79\n",
            "Buzz\n",
            "Fizz\n",
            "82\n",
            "83\n",
            "Fizz\n",
            "Buzz\n",
            "86\n",
            "Fizz\n",
            "88\n",
            "89\n",
            "FizzBuzz\n",
            "91\n",
            "92\n",
            "Fizz\n",
            "94\n",
            "Buzz\n",
            "Fizz\n",
            "97\n",
            "98\n",
            "Fizz\n",
            "Buzz\n"
          ]
        }
      ],
      "source": [
        "for i in range(1, 101):\n",
        "    if i % 3 == 0 and i % 5 == 0: #and operator included\n",
        "        print(\"FizzBuzz\")\n",
        "    elif i % 3 == 0:\n",
        "        print(\"Fizz\")\n",
        "    elif i % 5 == 0:\n",
        "        print(\"Buzz\")\n",
        "    else:\n",
        "        print(i)"
      ]
    },
    {
      "cell_type": "markdown",
      "metadata": {
        "id": "kTLG_SFk6hGE"
      },
      "source": [
        "Write a program that prompts the user to enter a positive integer, and then calculates the sum of all integers from 1 to the entered number."
      ]
    },
    {
      "cell_type": "code",
      "execution_count": 16,
      "metadata": {
        "id": "Ap2lBO_u6sO4",
        "colab": {
          "base_uri": "https://localhost:8080/"
        },
        "outputId": "7834e6b5-b76c-4d6d-8f5c-bf911abb9a41"
      },
      "outputs": [
        {
          "output_type": "stream",
          "name": "stdout",
          "text": [
            "Enter a positive integer: 0\n",
            "Invalid input! Please enter a positive integer.\n"
          ]
        }
      ],
      "source": [
        "num = int(input(\"Enter a positive integer: \"))\n",
        "sum = 0\n",
        "\n",
        "# check if num is positive\n",
        "if num <= 0:\n",
        "    print(\"Invalid input! Please enter a positive integer.\")\n",
        "else:\n",
        "    # calculate the sum of integers from 1 to num\n",
        "    for i in range(1, num+1):\n",
        "        sum += i\n",
        "\n",
        "    print(\"The sum of integers from 1 to {} is: {}\".format(num, sum))"
      ]
    },
    {
      "cell_type": "markdown",
      "metadata": {
        "id": "Zmbmyj986zo5"
      },
      "source": [
        "Generates a random number between 1 and 100, and prompts the user to guess the number.\n",
        "\n",
        "If the guess is too high, the program should print \"Too high\", if the guess is too low, the program should print \"Too low\", and if the guess is correct, the program should print \"Congratulations!\" and exit the loop:"
      ]
    },
    {
      "cell_type": "code",
      "execution_count": 17,
      "metadata": {
        "id": "Z4W-qRsg652N",
        "colab": {
          "base_uri": "https://localhost:8080/"
        },
        "outputId": "15e7f0e1-05ba-4e3f-bbb8-38fd1b5cbc66"
      },
      "outputs": [
        {
          "output_type": "stream",
          "name": "stdout",
          "text": [
            "Guess the number (between 1 and 100): 0\n",
            "Too low! Guess again.\n",
            "Guess the number (between 1 and 100): 0\n",
            "Too low! Guess again.\n",
            "Guess the number (between 1 and 100): 5\n",
            "Too low! Guess again.\n",
            "Guess the number (between 1 and 100): 100\n",
            "Too high! Guess again.\n",
            "Guess the number (between 1 and 100): 1\n",
            "Too low! Guess again.\n",
            "Guess the number (between 1 and 100): 222\n",
            "Too high! Guess again.\n",
            "Guess the number (between 1 and 100): 50\n",
            "Too low! Guess again.\n",
            "Guess the number (between 1 and 100): 99\n",
            "Too high! Guess again.\n",
            "Guess the number (between 1 and 100): 70\n",
            "Too low! Guess again.\n",
            "Guess the number (between 1 and 100): 60\n",
            "Too low! Guess again.\n",
            "Guess the number (between 1 and 100): 55\n",
            "Too low! Guess again.\n",
            "Guess the number (between 1 and 100): 51\n",
            "Too low! Guess again.\n",
            "Guess the number (between 1 and 100): 80\n",
            "Too low! Guess again.\n",
            "Guess the number (between 1 and 100): 85\n",
            "Too low! Guess again.\n",
            "Guess the number (between 1 and 100): 86\n",
            "Too low! Guess again.\n",
            "Guess the number (between 1 and 100): 90\n",
            "Congratulations! You guessed the number.\n"
          ]
        }
      ],
      "source": [
        "import random\n",
        "\n",
        "# generate a random number between 1 and 100\n",
        "num = random.randint(1, 100)\n",
        "\n",
        "# loop until the user guesses the number\n",
        "while True:\n",
        "    guess = int(input(\"Guess the number (between 1 and 100): \"))\n",
        "\n",
        "    # check if the guess is correct\n",
        "    if guess == num:\n",
        "        print(\"Congratulations! You guessed the number.\")\n",
        "        break\n",
        "\n",
        "    # check if the guess is too high\n",
        "    elif guess > num:\n",
        "        print(\"Too high! Guess again.\")\n",
        "\n",
        "    # check if the guess is too low\n",
        "    else:\n",
        "        print(\"Too low! Guess again.\")"
      ]
    },
    {
      "cell_type": "markdown",
      "metadata": {
        "id": "m-YEl-Mu7MWR"
      },
      "source": [
        "Write a program that generates a multiplication table for all numbers between 1 and 10. (see [.format()](https://www.geeksforgeeks.org/python-string-format-method/) method)"
      ]
    },
    {
      "cell_type": "code",
      "execution_count": 18,
      "metadata": {
        "id": "RkhTLaiO7o76",
        "colab": {
          "base_uri": "https://localhost:8080/"
        },
        "outputId": "7d797004-a875-423d-f5b0-8abcd4cd73a2"
      },
      "outputs": [
        {
          "output_type": "stream",
          "name": "stdout",
          "text": [
            "   1   2   3   4   5   6   7   8   9  10\n",
            "   2   4   6   8  10  12  14  16  18  20\n",
            "   3   6   9  12  15  18  21  24  27  30\n",
            "   4   8  12  16  20  24  28  32  36  40\n",
            "   5  10  15  20  25  30  35  40  45  50\n",
            "   6  12  18  24  30  36  42  48  54  60\n",
            "   7  14  21  28  35  42  49  56  63  70\n",
            "   8  16  24  32  40  48  56  64  72  80\n",
            "   9  18  27  36  45  54  63  72  81  90\n",
            "  10  20  30  40  50  60  70  80  90 100\n"
          ]
        }
      ],
      "source": [
        "for i in range(1, 11):\n",
        "    for j in range(1, 11):\n",
        "        print(\"{:4d}\".format(i*j), end=\"\")\n",
        "    print()"
      ]
    },
    {
      "cell_type": "markdown",
      "metadata": {
        "id": "6cEQ4HEN4ODA"
      },
      "source": [
        "## Exercise 1\n",
        "\n",
        "Write a code that ask the user to enter an integer number every time, and the process will be repeated with more numbers until the user enters a zero.\n",
        "\n",
        "At the end (when the zero is entered), show the amount of numbers entered."
      ]
    },
    {
      "cell_type": "markdown",
      "metadata": {
        "id": "8s-BFauy5BkM"
      },
      "source": [
        "## Exercise 2\n",
        "Use the input() function to ask for the user to enter one integer number. Only if the number is even, it will be accumulated.\n",
        "\n",
        "The program must come to an end if the sum of the numbers surpasses 50 or if the user enters a maximum of 10 numbers."
      ]
    },
    {
      "cell_type": "markdown",
      "metadata": {
        "id": "wcgoiWX_4nwL"
      },
      "source": [
        "Developed by:\n",
        "\n",
        "- Brian Patino Agudelo - bpatinoa@unal.edu.co\n",
        "\n",
        "- Andrés Marino Álvarez Meza - amalvarezme@unal.edu.co\n",
        "\n",
        "- César Germán Castellanos Domínguez - cgcastellanosd@unal.edu.co"
      ]
    },
    {
      "cell_type": "markdown",
      "source": [
        "Ejercicio 1: Contar cuántos números se ingresaron hasta que se introduce un cero"
      ],
      "metadata": {
        "id": "up2plalxGe5F"
      }
    },
    {
      "cell_type": "code",
      "execution_count": 19,
      "metadata": {
        "id": "glUOgM5V4ed2",
        "colab": {
          "base_uri": "https://localhost:8080/"
        },
        "outputId": "c9af6f7d-055a-4d5d-eb07-714fee48380c"
      },
      "outputs": [
        {
          "output_type": "stream",
          "name": "stdout",
          "text": [
            "Ingrese un número entero (0 para terminar): 50\n",
            "Ingrese un número entero (0 para terminar): 0\n",
            "Cantidad de números ingresados: 1\n"
          ]
        }
      ],
      "source": [
        "# Programa que cuenta cuántos números se ingresan hasta que se introduce un cero\n",
        "contador = 0\n",
        "\n",
        "while True:\n",
        "    numero = int(input(\"Ingrese un número entero (0 para terminar): \"))\n",
        "    if numero == 0:\n",
        "        break\n",
        "    contador += 1\n",
        "\n",
        "print(\"Cantidad de números ingresados:\", contador)\n"
      ]
    },
    {
      "cell_type": "markdown",
      "source": [
        "Ejercicio 2: Acumular números pares hasta superar 50 o alcanzar 10 intentos"
      ],
      "metadata": {
        "id": "YdqziJZcGpUG"
      }
    },
    {
      "cell_type": "code",
      "source": [
        "# Programa que acumula números pares hasta que la suma supere 50 o se ingresen 10 números\n",
        "suma = 0\n",
        "contador = 0\n",
        "\n",
        "while suma <= 50 and contador < 10:\n",
        "    numero = int(input(\"Ingrese un número entero: \"))\n",
        "    contador += 1\n",
        "    if numero % 2 == 0:\n",
        "        suma += numero\n",
        "\n",
        "print(\"Programa finalizado.\")\n",
        "print(\"Suma total de números pares acumulados:\", suma)\n",
        "print(\"Cantidad total de números ingresados:\", contador)\n"
      ],
      "metadata": {
        "colab": {
          "base_uri": "https://localhost:8080/"
        },
        "id": "0dkeKXj6Grhk",
        "outputId": "c2fc186f-4c07-4933-9c5e-a9ef1de48e37"
      },
      "execution_count": 22,
      "outputs": [
        {
          "output_type": "stream",
          "name": "stdout",
          "text": [
            "Ingrese un número entero: 15\n",
            "Ingrese un número entero: 28\n",
            "Ingrese un número entero: 59\n",
            "Ingrese un número entero: 652\n",
            "Programa finalizado.\n",
            "Suma total de números pares acumulados: 680\n",
            "Cantidad total de números ingresados: 4\n"
          ]
        }
      ]
    }
  ],
  "metadata": {
    "colab": {
      "provenance": [],
      "include_colab_link": true
    },
    "kernelspec": {
      "display_name": "Python 3",
      "name": "python3"
    },
    "language_info": {
      "name": "python"
    }
  },
  "nbformat": 4,
  "nbformat_minor": 0
}