{
  "nbformat": 4,
  "nbformat_minor": 0,
  "metadata": {
    "colab": {
      "provenance": [],
      "include_colab_link": true
    },
    "kernelspec": {
      "name": "python3",
      "display_name": "Python 3"
    },
    "language_info": {
      "name": "python"
    }
  },
  "cells": [
    {
      "cell_type": "markdown",
      "metadata": {
        "id": "view-in-github",
        "colab_type": "text"
      },
      "source": [
        "<a href=\"https://colab.research.google.com/github/SebastianPerezCalle/SENALES-Y-SISTEMAS-2025-1/blob/main/Python%20Basico/6_PythonDataTypesStructures.ipynb\" target=\"_parent\"><img src=\"https://colab.research.google.com/assets/colab-badge.svg\" alt=\"Open In Colab\"/></a>"
      ]
    },
    {
      "cell_type": "markdown",
      "source": [
        "##**Lists**\n",
        "\n",
        "In Python, a list is a data structure used to store an ordered collection of elements. It is called \"list\" in English.\n",
        "\n",
        "Lists are very versatile as they can contain elements of different data types such as numbers, strings, booleans, objects, and other lists. They can also be modified, which means that elements can be added, removed, or modified.\n",
        "\n",
        "To create a list in Python, square brackets [] are used.\n"
      ],
      "metadata": {
        "id": "7m2NOuILJwMh"
      }
    },
    {
      "cell_type": "code",
      "execution_count": 11,
      "metadata": {
        "colab": {
          "base_uri": "https://localhost:8080/"
        },
        "id": "loCCLXyUJGEf",
        "outputId": "50af858e-5963-4c53-bde7-3122ec520b45"
      },
      "outputs": [
        {
          "output_type": "execute_result",
          "data": {
            "text/plain": [
              "['Gerry', 1, 4.4, [0, 2, 3]]"
            ]
          },
          "metadata": {},
          "execution_count": 11
        }
      ],
      "source": [
        "lista1 = ['Gerry',1,4.4,[0,2,3]]\n",
        "lista1"
      ]
    },
    {
      "cell_type": "markdown",
      "source": [
        "I can show this element by element:"
      ],
      "metadata": {
        "id": "_hedGu3gKapT"
      }
    },
    {
      "cell_type": "code",
      "source": [
        "lista2 = lista1[1]\n",
        "lista2"
      ],
      "metadata": {
        "colab": {
          "base_uri": "https://localhost:8080/"
        },
        "id": "3EBTGE_fKed2",
        "outputId": "e4aef8ee-3a54-469e-da35-89a49ef093c5"
      },
      "execution_count": 12,
      "outputs": [
        {
          "output_type": "execute_result",
          "data": {
            "text/plain": [
              "1"
            ]
          },
          "metadata": {},
          "execution_count": 12
        }
      ]
    },
    {
      "cell_type": "code",
      "source": [
        "lista2 = lista1[-1]\n",
        "lista2"
      ],
      "metadata": {
        "colab": {
          "base_uri": "https://localhost:8080/"
        },
        "id": "GolGrN4lKlIz",
        "outputId": "724db2be-98c8-4afe-a5c2-9729b1e4d921"
      },
      "execution_count": 13,
      "outputs": [
        {
          "output_type": "execute_result",
          "data": {
            "text/plain": [
              "[0, 2, 3]"
            ]
          },
          "metadata": {},
          "execution_count": 13
        }
      ]
    },
    {
      "cell_type": "code",
      "source": [
        "lista2 = lista1[-1][2]\n",
        "lista2"
      ],
      "metadata": {
        "colab": {
          "base_uri": "https://localhost:8080/"
        },
        "id": "OVukUVegK8h5",
        "outputId": "deae811a-f2a4-408d-f8c2-6f3be6fe20b3"
      },
      "execution_count": 14,
      "outputs": [
        {
          "output_type": "execute_result",
          "data": {
            "text/plain": [
              "3"
            ]
          },
          "metadata": {},
          "execution_count": 14
        }
      ]
    },
    {
      "cell_type": "markdown",
      "source": [
        "I can delete a element of my list:"
      ],
      "metadata": {
        "id": "E-cwOa5ILNBX"
      }
    },
    {
      "cell_type": "code",
      "source": [
        "del lista1[1]\n",
        "lista1"
      ],
      "metadata": {
        "colab": {
          "base_uri": "https://localhost:8080/"
        },
        "id": "0UYTeLIQLKO5",
        "outputId": "1fa646fd-313c-4d8a-912e-a7e07104e0f7"
      },
      "execution_count": 15,
      "outputs": [
        {
          "output_type": "execute_result",
          "data": {
            "text/plain": [
              "['Gerry', 4.4, [0, 2, 3]]"
            ]
          },
          "metadata": {},
          "execution_count": 15
        }
      ]
    },
    {
      "cell_type": "code",
      "source": [
        "#I can add a element in the list with command .append, for example:\n",
        "\n",
        "lista1.append(4.5)\n",
        "lista1"
      ],
      "metadata": {
        "colab": {
          "base_uri": "https://localhost:8080/"
        },
        "id": "AyNgXL2nLnYq",
        "outputId": "c5e99485-c531-4c3b-9894-dcc31163e193"
      },
      "execution_count": 16,
      "outputs": [
        {
          "output_type": "execute_result",
          "data": {
            "text/plain": [
              "['Gerry', 4.4, [0, 2, 3], 4.5]"
            ]
          },
          "metadata": {},
          "execution_count": 16
        }
      ]
    },
    {
      "cell_type": "markdown",
      "source": [
        "##**Tuples**\n",
        "\n",
        "In Python, a tuple is another built-in data type used to store a collection of elements.\n",
        "\n",
        "A tuple is similar to a list in that it can store objects of different data types, but unlike lists, tuples are immutable, meaning they cannot be modified once they are created.\n",
        "\n",
        "Tuples are usually created by enclosing a comma-separated sequence of objects in parentheses ().\n",
        "\n",
        "\n",
        "For example, (1, 2, 'three') is a tuple containing an integer, another integer, and a string. Tuples are often used for fixed data that does not need to be changed, such as a collection of constants or a set of coordinates in a coordinate plane.\n",
        "\n",
        "\n",
        "\n"
      ],
      "metadata": {
        "id": "IDgY8mwnL6VM"
      }
    },
    {
      "cell_type": "code",
      "source": [
        "Tuple = (1,2,3,4,5)\n",
        "Tuple"
      ],
      "metadata": {
        "colab": {
          "base_uri": "https://localhost:8080/"
        },
        "id": "sOihyTYlMXTm",
        "outputId": "1aac1325-f7dc-456e-e586-47aa9f6e4e98"
      },
      "execution_count": 17,
      "outputs": [
        {
          "output_type": "execute_result",
          "data": {
            "text/plain": [
              "(1, 2, 3, 4, 5)"
            ]
          },
          "metadata": {},
          "execution_count": 17
        }
      ]
    },
    {
      "cell_type": "code",
      "source": [
        "Tuple[0]"
      ],
      "metadata": {
        "colab": {
          "base_uri": "https://localhost:8080/"
        },
        "id": "4i09enoPMhYb",
        "outputId": "1300a04b-40a0-43d3-d92f-7ff6ac0047af"
      },
      "execution_count": 18,
      "outputs": [
        {
          "output_type": "execute_result",
          "data": {
            "text/plain": [
              "1"
            ]
          },
          "metadata": {},
          "execution_count": 18
        }
      ]
    },
    {
      "cell_type": "code",
      "source": [
        "#Tuple[0]=4 #you cannot modified it!"
      ],
      "metadata": {
        "id": "8-mDNlIfMjyD"
      },
      "execution_count": 19,
      "outputs": []
    },
    {
      "cell_type": "markdown",
      "source": [
        "##**Sets**\n",
        "\n",
        "In Python, a set is a built-in data type used to store an unordered collection of unique elements. It is similar to a list or a tuple, but unlike those data types, a set cannot contain duplicate values.\n",
        "\n",
        "Sets are created using curly braces {} or by using the set() function. For example, the following code creates a set of integers:"
      ],
      "metadata": {
        "id": "sAtET_vZMmbP"
      }
    },
    {
      "cell_type": "code",
      "source": [
        "my_set = {1, 2, 3, 4,5,5,3} #you cannot store the 5 twice in a set!\n",
        "my_set"
      ],
      "metadata": {
        "colab": {
          "base_uri": "https://localhost:8080/"
        },
        "id": "00IvCp_PND36",
        "outputId": "ecb29771-b580-45cf-a154-f95a5d1d4973"
      },
      "execution_count": 20,
      "outputs": [
        {
          "output_type": "execute_result",
          "data": {
            "text/plain": [
              "{1, 2, 3, 4, 5}"
            ]
          },
          "metadata": {},
          "execution_count": 20
        }
      ]
    },
    {
      "cell_type": "markdown",
      "source": [
        "Sets can also be used to perform mathematical set operations such as union, intersection, and difference.\n",
        "\n",
        "For example, given two sets set1 = {1, 2, 3} and set2 = {2, 3, 4}, the union of the two sets can be obtained using the | operator:"
      ],
      "metadata": {
        "id": "6FLcFWCsNI5A"
      }
    },
    {
      "cell_type": "code",
      "source": [
        "set1={1,2,3,4,8}\n",
        "set2={2,3,4}\n",
        "\n",
        "union_set = set1 | set2\n",
        "union_set\n"
      ],
      "metadata": {
        "colab": {
          "base_uri": "https://localhost:8080/"
        },
        "id": "O4ElDKysNJmT",
        "outputId": "a4cbb035-5814-4d2f-c66c-e8f3f3e58602"
      },
      "execution_count": 21,
      "outputs": [
        {
          "output_type": "execute_result",
          "data": {
            "text/plain": [
              "{1, 2, 3, 4, 8}"
            ]
          },
          "metadata": {},
          "execution_count": 21
        }
      ]
    },
    {
      "cell_type": "markdown",
      "source": [
        "Similarly, the intersection of the two sets can be obtained using the & operator:"
      ],
      "metadata": {
        "id": "4EICJO77NYUx"
      }
    },
    {
      "cell_type": "code",
      "source": [
        "intersection_set = set1 & set2\n",
        "intersection_set\n",
        "\n"
      ],
      "metadata": {
        "colab": {
          "base_uri": "https://localhost:8080/"
        },
        "id": "QxaUxi_8NX9c",
        "outputId": "db0e749e-cc68-43fa-c692-9b08eae2e290"
      },
      "execution_count": 22,
      "outputs": [
        {
          "output_type": "execute_result",
          "data": {
            "text/plain": [
              "{2, 3, 4}"
            ]
          },
          "metadata": {},
          "execution_count": 22
        }
      ]
    },
    {
      "cell_type": "markdown",
      "source": [
        "And the difference of the two sets can be obtained using the - operator:"
      ],
      "metadata": {
        "id": "L5JlhT_1OQk8"
      }
    },
    {
      "cell_type": "code",
      "source": [
        "difference_set = set1 - set2\n",
        "difference_set"
      ],
      "metadata": {
        "colab": {
          "base_uri": "https://localhost:8080/"
        },
        "id": "RVaE-Y1PORc8",
        "outputId": "2889fafe-e3c6-413b-c02c-05f7895d21bb"
      },
      "execution_count": 23,
      "outputs": [
        {
          "output_type": "execute_result",
          "data": {
            "text/plain": [
              "{1, 8}"
            ]
          },
          "metadata": {},
          "execution_count": 23
        }
      ]
    },
    {
      "cell_type": "markdown",
      "source": [
        "##**Dictionaries**\n",
        "\n",
        "In Python, a dictionary is a built-in data structure used to store a collection of key-value pairs. It is sometimes referred to as an associative array, hash table or a map.\n",
        "\n",
        "A dictionary is created using curly braces {} and each key-value pair is separated by a colon (:). For example, the following code creates a dictionary of items and their prices"
      ],
      "metadata": {
        "id": "3tUubrxMOoSB"
      }
    },
    {
      "cell_type": "code",
      "source": [
        "prices = {'apple':0.5,'banana': 0.25, 'orange': 0.75}\n",
        "prices\n",
        "\n",
        "prices['orange']=1\n",
        "\n",
        "prices"
      ],
      "metadata": {
        "colab": {
          "base_uri": "https://localhost:8080/"
        },
        "id": "ubj9Qiv9O4UW",
        "outputId": "87f46227-c859-4144-9b68-35be2aa28f59"
      },
      "execution_count": 24,
      "outputs": [
        {
          "output_type": "execute_result",
          "data": {
            "text/plain": [
              "{'apple': 0.5, 'banana': 0.25, 'orange': 1}"
            ]
          },
          "metadata": {},
          "execution_count": 24
        }
      ]
    },
    {
      "cell_type": "markdown",
      "source": [
        "In this example, 'apple', 'banana', and 'orange' are keys, and 0.5, 0.25, and 0.75 are their corresponding values. The keys in a dictionary must be unique and immutable, while the values can be of any data type and can be duplicated.\n",
        "\n",
        "Values in a dictionary can be accessed by their corresponding keys, as shown in the following example:"
      ],
      "metadata": {
        "id": "Kpc4CDQdPBgJ"
      }
    },
    {
      "cell_type": "code",
      "source": [
        "apple_price = prices['banana']\n",
        "apple_price\n"
      ],
      "metadata": {
        "colab": {
          "base_uri": "https://localhost:8080/"
        },
        "id": "1i4_35S2PNAl",
        "outputId": "ed039e6d-573e-46e1-9b62-e863b689e15b"
      },
      "execution_count": 25,
      "outputs": [
        {
          "output_type": "execute_result",
          "data": {
            "text/plain": [
              "0.25"
            ]
          },
          "metadata": {},
          "execution_count": 25
        }
      ]
    },
    {
      "cell_type": "markdown",
      "source": [
        "Dictionaries are useful when you need to store and retrieve values by a specific key rather than by their position in a sequence. They are commonly used to represent mappings between items, such as a person's name and their contact information, or a word and its definition."
      ],
      "metadata": {
        "id": "nHbjpbQqPReD"
      }
    },
    {
      "cell_type": "code",
      "source": [
        "prices['banana']"
      ],
      "metadata": {
        "colab": {
          "base_uri": "https://localhost:8080/"
        },
        "id": "e4nTbDtKQGSg",
        "outputId": "b610b457-4552-4fb8-82e5-3ef214a82d91"
      },
      "execution_count": 26,
      "outputs": [
        {
          "output_type": "execute_result",
          "data": {
            "text/plain": [
              "0.25"
            ]
          },
          "metadata": {},
          "execution_count": 26
        }
      ]
    },
    {
      "cell_type": "markdown",
      "source": [
        "##**Example**\n",
        "\n",
        "Write a function that takes a list of numbers as input and returns a list that contains only the unique numbers from the original list. For example, if the input is [1, 2, 3, 2, 4, 3, 5], the function should return [1, 2, 3, 4, 5]."
      ],
      "metadata": {
        "id": "9CaTksnCTCBk"
      }
    },
    {
      "cell_type": "code",
      "source": [
        "def unique_numbers(nums):\n",
        "    return list(set(nums))#\n",
        "\n",
        "# Example usage\n",
        "nums = [1, 2, 3, 2, 4, 3, 5]\n",
        "print(unique_numbers(nums))"
      ],
      "metadata": {
        "colab": {
          "base_uri": "https://localhost:8080/"
        },
        "id": "TVhPTXtjTKMm",
        "outputId": "53374683-f7f2-4547-d534-5eda886b941d"
      },
      "execution_count": 27,
      "outputs": [
        {
          "output_type": "stream",
          "name": "stdout",
          "text": [
            "[1, 2, 3, 4, 5]\n"
          ]
        }
      ]
    },
    {
      "cell_type": "markdown",
      "source": [
        "##**Example**\n",
        "\n",
        "Write a function that takes a dictionary as input and returns a list of the unique values in the dictionary. For example, if the dictionary is {'a': 1, 'b': 2, 'c': 1, 'd': 3}, the function should return [1, 2, 3]."
      ],
      "metadata": {
        "id": "HRXzajpMTiZj"
      }
    },
    {
      "cell_type": "code",
      "source": [
        "def ex2 (d):\n",
        "  lista = []\n",
        "  for i in d:\n",
        "    if d[i] not in lista:\n",
        "      lista.append(d[i])\n",
        "  return lista\n",
        "\n",
        "dicc ={'a': 1, 'b': 2, 'c': 1, 'd': 3}\n",
        "lis = ex2(dicc)\n",
        "lis"
      ],
      "metadata": {
        "colab": {
          "base_uri": "https://localhost:8080/"
        },
        "id": "s53Nhq7QV8CM",
        "outputId": "9b55c383-4b51-45d3-9dd9-26a1aefa1cbf"
      },
      "execution_count": 28,
      "outputs": [
        {
          "output_type": "execute_result",
          "data": {
            "text/plain": [
              "[1, 2, 3]"
            ]
          },
          "metadata": {},
          "execution_count": 28
        }
      ]
    },
    {
      "cell_type": "markdown",
      "source": [
        "##**Exercise_1**\n",
        "\n",
        "Write a function that takes a list of numbers as input and returns the sum of all the odd numbers in the list. For example, if the input is [1, 2, 3, 4, 5, 6], the function should return 9 (which is the sum of 1, 3, and 5)."
      ],
      "metadata": {
        "id": "3MDtAtv-UG5P"
      }
    },
    {
      "cell_type": "markdown",
      "source": [
        "##**Exercise_2**\n",
        "Write a function that takes a list of words as input and returns a dictionary that counts the number of times each word appears in the list. For example, if the input is ['apple', 'banana', 'apple', 'cherry', 'cherry', 'cherry'], the function should return {'apple': 2, 'banana': 1, 'cherry': 3}."
      ],
      "metadata": {
        "id": "kPhBJ5HUUlvN"
      }
    },
    {
      "cell_type": "markdown",
      "source": [
        "Developed by:\n",
        "\n",
        "- Brian Patino Agudelo - bpatinoa@unal.edu.co\n",
        "\n",
        "- Andrés Marino Álvarez Meza - amalvarezme@unal.edu.co\n",
        "\n",
        "- César Germán Castellanos Domínguez - cgcastellanosd@unal.edu.co"
      ],
      "metadata": {
        "id": "9thTok_REswp"
      }
    },
    {
      "cell_type": "markdown",
      "source": [
        "Ejercicio 1: Suma de números impares en una lista"
      ],
      "metadata": {
        "id": "AdJ3bNe8Jf2D"
      }
    },
    {
      "cell_type": "code",
      "source": [
        "def suma_impares(lista):\n",
        "    return sum(numero for numero in lista if numero % 2 != 0)\n",
        "\n",
        "# Ejemplo de uso:\n",
        "# print(suma_impares([1, 2, 3, 4, 5, 6]))  # Resultado: 9\n"
      ],
      "metadata": {
        "id": "cWV3WymdezoZ"
      },
      "execution_count": 29,
      "outputs": []
    },
    {
      "cell_type": "markdown",
      "source": [
        "Ejercicio 2: Contador de palabras en una lista"
      ],
      "metadata": {
        "id": "tAHxPYt8Jkg-"
      }
    },
    {
      "cell_type": "code",
      "source": [
        "def contar_palabras(lista_palabras):\n",
        "    contador = {}\n",
        "    for palabra in lista_palabras:\n",
        "        if palabra in contador:\n",
        "            contador[palabra] += 1\n",
        "        else:\n",
        "            contador[palabra] = 1\n",
        "    return contador\n",
        "\n",
        "# Ejemplo de uso:\n",
        "# print(contar_palabras(['apple', 'banana', 'apple', 'cherry', 'cherry', 'cherry']))\n",
        "# Resultado: {'apple': 2, 'banana': 1, 'cherry': 3}\n"
      ],
      "metadata": {
        "id": "_bncZ6H8JmtN"
      },
      "execution_count": 30,
      "outputs": []
    }
  ]
}